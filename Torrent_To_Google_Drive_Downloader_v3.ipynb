{
  "nbformat": 4,
  "nbformat_minor": 0,
  "metadata": {
    "colab": {
      "name": "Torrent To Google Drive Downloader v3",
      "provenance": [],
      "collapsed_sections": [],
      "include_colab_link": true
    },
    "kernelspec": {
      "display_name": "Python 3",
      "name": "python3"
    }
  },
  "cells": [
    {
      "cell_type": "markdown",
      "metadata": {
        "id": "view-in-github",
        "colab_type": "text"
      },
      "source": [
        "<a href=\"https://colab.research.google.com/github/aayushg1007/Torrent-Downloader/blob/main/Torrent_To_Google_Drive_Downloader_v3.ipynb\" target=\"_parent\"><img src=\"https://colab.research.google.com/assets/colab-badge.svg\" alt=\"Open In Colab\"/></a>"
      ]
    },
    {
      "cell_type": "markdown",
      "metadata": {
        "id": "aQuWDmfm9YOi"
      },
      "source": [
        "# Torrent To Google Drive Downloader FTC"
      ]
    },
    {
      "cell_type": "markdown",
      "metadata": {
        "id": "Uf90U73y9YOj"
      },
      "source": [
        "### Mount Google Drive\n",
        "To stream files we need to mount Google Drive."
      ]
    },
    {
      "cell_type": "code",
      "metadata": {
        "colab": {
          "base_uri": "https://localhost:8080/"
        },
        "id": "oWM9l2fvtuvO",
        "outputId": "5d64f6be-1934-4a1b-e2ea-24f3beb52ea3"
      },
      "source": [
        "from google.colab import drive\n",
        "drive.mount('/content/drive')"
      ],
      "execution_count": 1,
      "outputs": [
        {
          "output_type": "stream",
          "name": "stdout",
          "text": [
            "Mounted at /content/drive\n"
          ]
        }
      ]
    },
    {
      "cell_type": "markdown",
      "metadata": {
        "id": "FexiyATtNwTG"
      },
      "source": [
        "###Dependency"
      ]
    },
    {
      "cell_type": "code",
      "metadata": {
        "id": "m6hF0emftx4h",
        "colab": {
          "base_uri": "https://localhost:8080/"
        },
        "outputId": "d2a800ac-90c1-4194-fe19-131e107295e5"
      },
      "source": [
        "!apt install python3-libtorrent"
      ],
      "execution_count": 2,
      "outputs": [
        {
          "output_type": "stream",
          "name": "stdout",
          "text": [
            "Reading package lists... Done\n",
            "Building dependency tree       \n",
            "Reading state information... Done\n",
            "The following package was automatically installed and is no longer required:\n",
            "  libnvidia-common-460\n",
            "Use 'apt autoremove' to remove it.\n",
            "The following additional packages will be installed:\n",
            "  libtorrent-rasterbar9\n",
            "Suggested packages:\n",
            "  libtorrent-rasterbar-dbg\n",
            "The following NEW packages will be installed:\n",
            "  libtorrent-rasterbar9 python3-libtorrent\n",
            "0 upgraded, 2 newly installed, 0 to remove and 45 not upgraded.\n",
            "Need to get 1,569 kB of archives.\n",
            "After this operation, 5,718 kB of additional disk space will be used.\n",
            "Get:1 http://archive.ubuntu.com/ubuntu bionic/universe amd64 libtorrent-rasterbar9 amd64 1.1.5-1build1 [1,258 kB]\n",
            "Get:2 http://archive.ubuntu.com/ubuntu bionic/universe amd64 python3-libtorrent amd64 1.1.5-1build1 [310 kB]\n",
            "Fetched 1,569 kB in 0s (5,018 kB/s)\n",
            "Selecting previously unselected package libtorrent-rasterbar9.\n",
            "(Reading database ... 155632 files and directories currently installed.)\n",
            "Preparing to unpack .../libtorrent-rasterbar9_1.1.5-1build1_amd64.deb ...\n",
            "Unpacking libtorrent-rasterbar9 (1.1.5-1build1) ...\n",
            "Selecting previously unselected package python3-libtorrent.\n",
            "Preparing to unpack .../python3-libtorrent_1.1.5-1build1_amd64.deb ...\n",
            "Unpacking python3-libtorrent (1.1.5-1build1) ...\n",
            "Setting up libtorrent-rasterbar9 (1.1.5-1build1) ...\n",
            "Setting up python3-libtorrent (1.1.5-1build1) ...\n",
            "Processing triggers for libc-bin (2.27-3ubuntu1.3) ...\n",
            "/sbin/ldconfig.real: /usr/local/lib/python3.7/dist-packages/ideep4py/lib/libmkldnn.so.0 is not a symbolic link\n",
            "\n"
          ]
        }
      ]
    },
    {
      "cell_type": "code",
      "metadata": {
        "id": "LvA-j05V1rTO",
        "colab": {
          "base_uri": "https://localhost:8080/",
          "height": 626
        },
        "outputId": "a8885f24-d501-47b7-a991-18dee38b3200"
      },
      "source": [
        "!pip install --upgrade pip setuptools wheel\n",
        "!pip install lbry-libtorrent"
      ],
      "execution_count": 3,
      "outputs": [
        {
          "output_type": "stream",
          "name": "stdout",
          "text": [
            "Looking in indexes: https://pypi.org/simple, https://us-python.pkg.dev/colab-wheels/public/simple/\n",
            "Requirement already satisfied: pip in /usr/local/lib/python3.7/dist-packages (21.1.3)\n",
            "Collecting pip\n",
            "  Downloading pip-22.1.2-py3-none-any.whl (2.1 MB)\n",
            "\u001b[K     |████████████████████████████████| 2.1 MB 5.3 MB/s \n",
            "\u001b[?25hRequirement already satisfied: setuptools in /usr/local/lib/python3.7/dist-packages (57.4.0)\n",
            "Collecting setuptools\n",
            "  Downloading setuptools-62.4.0-py3-none-any.whl (1.2 MB)\n",
            "\u001b[K     |████████████████████████████████| 1.2 MB 49.8 MB/s \n",
            "\u001b[?25hRequirement already satisfied: wheel in /usr/local/lib/python3.7/dist-packages (0.37.1)\n",
            "Installing collected packages: setuptools, pip\n",
            "  Attempting uninstall: setuptools\n",
            "    Found existing installation: setuptools 57.4.0\n",
            "    Uninstalling setuptools-57.4.0:\n",
            "      Successfully uninstalled setuptools-57.4.0\n",
            "  Attempting uninstall: pip\n",
            "    Found existing installation: pip 21.1.3\n",
            "    Uninstalling pip-21.1.3:\n",
            "      Successfully uninstalled pip-21.1.3\n",
            "\u001b[31mERROR: pip's dependency resolver does not currently take into account all the packages that are installed. This behaviour is the source of the following dependency conflicts.\n",
            "datascience 0.10.6 requires folium==0.2.1, but you have folium 0.8.3 which is incompatible.\u001b[0m\n",
            "Successfully installed pip-22.1.2 setuptools-62.4.0\n"
          ]
        },
        {
          "output_type": "display_data",
          "data": {
            "application/vnd.colab-display-data+json": {
              "pip_warning": {
                "packages": [
                  "pkg_resources"
                ]
              }
            }
          },
          "metadata": {}
        },
        {
          "output_type": "stream",
          "name": "stdout",
          "text": [
            "Looking in indexes: https://pypi.org/simple, https://us-python.pkg.dev/colab-wheels/public/simple/\n",
            "Collecting lbry-libtorrent\n",
            "  Downloading lbry_libtorrent-1.2.4-py3-none-any.whl (2.4 MB)\n",
            "\u001b[2K     \u001b[90m━━━━━━━━━━━━━━━━━━━━━━━━━━━━━━━━━━━━━━━━\u001b[0m \u001b[32m2.4/2.4 MB\u001b[0m \u001b[31m29.8 MB/s\u001b[0m eta \u001b[36m0:00:00\u001b[0m\n",
            "\u001b[?25hInstalling collected packages: lbry-libtorrent\n",
            "Successfully installed lbry-libtorrent-1.2.4\n",
            "\u001b[33mWARNING: Running pip as the 'root' user can result in broken permissions and conflicting behaviour with the system package manager. It is recommended to use a virtual environment instead: https://pip.pypa.io/warnings/venv\u001b[0m\u001b[33m\n",
            "\u001b[0m"
          ]
        }
      ]
    },
    {
      "cell_type": "markdown",
      "metadata": {
        "id": "tqKcWHZcYRIA"
      },
      "source": [
        "### Code to download torrent\n",
        "#### Note:\n",
        "Run this command in your browser's console (Press `Ctrl+Shift+I`) as shown below...\n",
        "\n",
        "`javascript:void(setInterval(function(){ console.log(\"Connect pushed\"); document.querySelector(\"#top-toolbar > colab-connect-button\").shadowRoot.querySelector(\"#connect\").click(); },60000))`\n",
        "\n",
        "![Screenshot 2021-05-19 103113.png](data:image/png;base64,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)\n"
      ]
    },
    {
      "cell_type": "code",
      "metadata": {
        "colab": {
          "base_uri": "https://localhost:8080/"
        },
        "id": "b09BxnANO2ep",
        "outputId": "81c010dd-7133-4d20-c962-944c210f586f"
      },
      "source": [
        "\n",
        "import libtorrent as lt\n",
        "import time\n",
        "import datetime\n",
        "\n",
        "list1= [0,1,2,3]\n",
        "\n",
        "ses = lt.session()\n",
        "ses.listen_on(6881, 6891)\n",
        "params = {\n",
        "    'save_path': '/content/drive/My Drive/Torrent/',\n",
        "    'storage_mode': lt.storage_mode_t(2)}\n",
        "\n",
        "link = str(input(\"Enter your link here: \"))\n",
        "print(link)\n",
        "\n",
        "handle = lt.add_magnet_uri(ses, link, params)\n",
        "ses.start_dht()\n",
        "\n",
        "begin = time.time()\n",
        "print(datetime.datetime.now())\n",
        "\n",
        "print ('Downloading Metadata...')\n",
        "while (not handle.has_metadata()):\n",
        "    time.sleep(1)\n",
        "print ('Got Metadata, Starting Torrent Download...')\n",
        "\n",
        "print(\"Starting\", handle.name())\n",
        "\n",
        "while (handle.status().state != lt.torrent_status.seeding):\n",
        "    \n",
        "    s = handle.status()\n",
        "    state_str = ['queued', 'checking', 'downloading metadata',\n",
        "            'downloading', 'finished', 'seeding', 'allocating']\n",
        "    print ('\\r\\033[1;36;40m %.2f%% complete (down: %.1f kb/s up: %.1f kB/s peers: %d) %s' % \\\n",
        "            (s.progress * 100, s.download_rate / 1000, s.upload_rate / 1000, \\\n",
        "            s.num_peers, state_str[s.state]), end=\"\")\n",
        "    \n",
        "    time.sleep(1)\n",
        "\n",
        "end = time.time()\n",
        "print(handle.name(), \"COMPLETE\")\n",
        "\n",
        "print(\"Elapsed Time: \",int((end-begin)//60),\"min :\", int((end-begin)%60), \"sec\")\n",
        "\n",
        "print(datetime.datetime.now())"
      ],
      "execution_count": null,
      "outputs": [
        {
          "output_type": "stream",
          "name": "stdout",
          "text": [
            "Enter your link here: magnet:?xt=urn:btih:5FCA719641619E858C609B5D9C75E60B9B09A94A&tr=http%3A%2F%2Fbt4.t-ru.org%2Fann%3Fmagnet&dn=Splice%20Sounds%20-%20Sounds%20of%20KSHMR%20Vol.3%20(WAV)\n",
            "magnet:?xt=urn:btih:5FCA719641619E858C609B5D9C75E60B9B09A94A&tr=http%3A%2F%2Fbt4.t-ru.org%2Fann%3Fmagnet&dn=Splice%20Sounds%20-%20Sounds%20of%20KSHMR%20Vol.3%20(WAV)\n",
            "2022-06-13 19:14:11.327758\n",
            "Downloading Metadata...\n",
            "Got Metadata, Starting Torrent Download...\n",
            "Starting Splice Sounds - Sounds of KSHMR Vol.3\n",
            "\u001b[1;36;40m 34.22% complete (down: 6277.6 kb/s up: 189.7 kB/s peers: 35) downloading"
          ]
        }
      ]
    }
  ]
}